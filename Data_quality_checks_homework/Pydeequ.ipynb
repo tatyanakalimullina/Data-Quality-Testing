{
 "cells": [
  {
   "cell_type": "code",
   "execution_count": 1,
   "id": "b0e31b90",
   "metadata": {},
   "outputs": [],
   "source": [
    "import pydeequ"
   ]
  },
  {
   "cell_type": "code",
   "execution_count": 2,
   "id": "02a92c47",
   "metadata": {},
   "outputs": [],
   "source": [
    "from pyspark.sql import SparkSession"
   ]
  },
  {
   "cell_type": "code",
   "execution_count": 4,
   "id": "3cc72bb7",
   "metadata": {},
   "outputs": [],
   "source": [
    "import sagemaker_pyspark"
   ]
  },
  {
   "cell_type": "code",
   "execution_count": 5,
   "id": "2e74d968",
   "metadata": {},
   "outputs": [],
   "source": [
    "classpath = \":\".join(sagemaker_pyspark.classpath_jars())"
   ]
  },
  {
   "cell_type": "code",
   "execution_count": 6,
   "id": "5e465e8f",
   "metadata": {},
   "outputs": [],
   "source": [
    "spark = (SparkSession\n",
    "    .builder\n",
    "    .config(\"spark.driver.extraClassPath\", classpath)\n",
    "    .config(\"spark.jars.packages\", pydeequ.deequ_maven_coord)\n",
    "    .config(\"spark.jars.excludes\", pydeequ.f2j_maven_coord)\n",
    "    .getOrCreate())"
   ]
  },
  {
   "cell_type": "code",
   "execution_count": 7,
   "id": "f8ebc4cb",
   "metadata": {},
   "outputs": [],
   "source": [
    "df = spark.read.option(\"header\",True).csv(\"amazon_reviews_us_Camera_v1_00.tsv\", sep ='\\t')"
   ]
  },
  {
   "cell_type": "code",
   "execution_count": 8,
   "id": "b63b6125",
   "metadata": {},
   "outputs": [
    {
     "name": "stdout",
     "output_type": "stream",
     "text": [
      "root\n",
      " |-- marketplace: string (nullable = true)\n",
      " |-- customer_id: string (nullable = true)\n",
      " |-- review_id: string (nullable = true)\n",
      " |-- product_id: string (nullable = true)\n",
      " |-- product_parent: string (nullable = true)\n",
      " |-- product_title: string (nullable = true)\n",
      " |-- product_category: string (nullable = true)\n",
      " |-- star_rating: string (nullable = true)\n",
      " |-- helpful_votes: string (nullable = true)\n",
      " |-- total_votes: string (nullable = true)\n",
      " |-- vine: string (nullable = true)\n",
      " |-- verified_purchase: string (nullable = true)\n",
      " |-- review_headline: string (nullable = true)\n",
      " |-- review_body: string (nullable = true)\n",
      " |-- review_date: string (nullable = true)\n",
      "\n"
     ]
    }
   ],
   "source": [
    "df.printSchema()"
   ]
  },
  {
   "cell_type": "code",
   "execution_count": 9,
   "id": "6d1dd545",
   "metadata": {},
   "outputs": [],
   "source": [
    "from pydeequ.checks import *\n",
    "from pydeequ.verification import *\n",
    "check = Check(spark, CheckLevel.Warning, \"Check amazon file\")"
   ]
  },
  {
   "cell_type": "code",
   "execution_count": 12,
   "id": "8c9b27bb",
   "metadata": {},
   "outputs": [
    {
     "name": "stdout",
     "output_type": "stream",
     "text": [
      "+-----------+\n",
      "|review_date|\n",
      "+-----------+\n",
      "| 2015-08-31|\n",
      "+-----------+\n",
      "\n"
     ]
    }
   ],
   "source": [
    "df.createOrReplaceTempView(\"table\")\n",
    "res_sql=spark.sql('SELECT review_date from table limit 1').show()"
   ]
  },
  {
   "cell_type": "code",
   "execution_count": 62,
   "id": "aef39146",
   "metadata": {},
   "outputs": [],
   "source": [
    "checkResult_1 = VerificationSuite(spark).onData(df).addCheck(check\n",
    "                                                           .isComplete(\"review_id\")\n",
    "                                                           .isUnique(\"review_id\")\n",
    "                                                           .isContainedIn(\"verified_purchase\", [\"N\", \"Y\"])\n",
    "                                                           .hasDataType(\"total_votes\", ConstrainableDataTypes.Integral)\n",
    "                                                           .hasPattern(\"review_date\", \"([12]\\d{3}-(0[1-9]|1[0-2])-(0[1-9]|[12]\\d|3[01]))\", lambda x: x == 1)).run()"
   ]
  },
  {
   "cell_type": "code",
   "execution_count": 64,
   "id": "4eefc3f5",
   "metadata": {},
   "outputs": [
    {
     "name": "stdout",
     "output_type": "stream",
     "text": [
      "+-----------------+-----------+------------+--------------------+-----------------+------------------+\n",
      "|            check|check_level|check_status|          constraint|constraint_status|constraint_message|\n",
      "+-----------------+-----------+------------+--------------------+-----------------+------------------+\n",
      "|Check amazon file|    Warning|     Warning|CompletenessConst...|          Success|                  |\n",
      "|Check amazon file|    Warning|     Warning|UniquenessConstra...|          Success|                  |\n",
      "|Check amazon file|    Warning|     Warning|CompletenessConst...|          Success|                  |\n",
      "|Check amazon file|    Warning|     Warning|ComplianceConstra...|          Success|                  |\n",
      "|Check amazon file|    Warning|     Warning|CompletenessConst...|          Success|                  |\n",
      "|Check amazon file|    Warning|     Warning|UniquenessConstra...|          Success|                  |\n",
      "|Check amazon file|    Warning|     Warning|CompletenessConst...|          Success|                  |\n",
      "|Check amazon file|    Warning|     Warning|UniquenessConstra...|          Success|                  |\n",
      "|Check amazon file|    Warning|     Warning|CompletenessConst...|          Success|                  |\n",
      "|Check amazon file|    Warning|     Warning|CompletenessConst...|          Success|                  |\n",
      "|Check amazon file|    Warning|     Warning|UniquenessConstra...|          Success|                  |\n",
      "|Check amazon file|    Warning|     Warning|CompletenessConst...|          Success|                  |\n",
      "|Check amazon file|    Warning|     Warning|CompletenessConst...|          Success|                  |\n",
      "|Check amazon file|    Warning|     Warning|UniquenessConstra...|          Success|                  |\n",
      "|Check amazon file|    Warning|     Warning|CompletenessConst...|          Success|                  |\n",
      "|Check amazon file|    Warning|     Warning|ComplianceConstra...|          Success|                  |\n",
      "|Check amazon file|    Warning|     Warning|CompletenessConst...|          Success|                  |\n",
      "|Check amazon file|    Warning|     Warning|UniquenessConstra...|          Success|                  |\n",
      "|Check amazon file|    Warning|     Warning|CompletenessConst...|          Success|                  |\n",
      "|Check amazon file|    Warning|     Warning|ComplianceConstra...|          Success|                  |\n",
      "+-----------------+-----------+------------+--------------------+-----------------+------------------+\n",
      "only showing top 20 rows\n",
      "\n"
     ]
    }
   ],
   "source": [
    "checkResult_df = VerificationResult.checkResultsAsDataFrame(spark, checkResult_1)\n",
    "checkResult_df.createOrReplaceTempView(\"check_res\")\n",
    "checkResult_df.show()"
   ]
  },
  {
   "cell_type": "code",
   "execution_count": 65,
   "id": "d3a2e2f0",
   "metadata": {},
   "outputs": [
    {
     "name": "stdout",
     "output_type": "stream",
     "text": [
      "+------+--------------------+--------------------+--------------------+\n",
      "|entity|            instance|                name|               value|\n",
      "+------+--------------------+--------------------+--------------------+\n",
      "|Column|           review_id|        Completeness|                 1.0|\n",
      "|Column|           review_id|          Uniqueness|                 1.0|\n",
      "|Column|         total_votes|      Histogram.bins|                 5.0|\n",
      "|Column|         total_votes|Histogram.abs.Boo...|                 0.0|\n",
      "|Column|         total_votes|Histogram.ratio.B...|                 0.0|\n",
      "|Column|         total_votes|Histogram.abs.Fra...|                 0.0|\n",
      "|Column|         total_votes|Histogram.ratio.F...|                 0.0|\n",
      "|Column|         total_votes|Histogram.abs.Int...|           1801972.0|\n",
      "|Column|         total_votes|Histogram.ratio.I...|  0.9999988901060726|\n",
      "|Column|         total_votes|Histogram.abs.Unk...|                 2.0|\n",
      "|Column|         total_votes|Histogram.ratio.U...|1.109893927437354...|\n",
      "|Column|         total_votes|Histogram.abs.String|                 0.0|\n",
      "|Column|         total_votes|Histogram.ratio.S...|                 0.0|\n",
      "|Column|verified_purchase...|          Compliance|                 1.0|\n",
      "|Column|         marketplace|        Completeness|                 1.0|\n",
      "+------+--------------------+--------------------+--------------------+\n",
      "\n"
     ]
    }
   ],
   "source": [
    "checkResult_df = VerificationResult.successMetricsAsDataFrame(spark, checkResult)\n",
    "checkResult_df.show()"
   ]
  },
  {
   "cell_type": "code",
   "execution_count": null,
   "id": "9f118b72",
   "metadata": {},
   "outputs": [],
   "source": []
  }
 ],
 "metadata": {
  "kernelspec": {
   "display_name": "Python 3 (ipykernel)",
   "language": "python",
   "name": "python3"
  },
  "language_info": {
   "codemirror_mode": {
    "name": "ipython",
    "version": 3
   },
   "file_extension": ".py",
   "mimetype": "text/x-python",
   "name": "python",
   "nbconvert_exporter": "python",
   "pygments_lexer": "ipython3",
   "version": "3.7.0"
  }
 },
 "nbformat": 4,
 "nbformat_minor": 5
}
