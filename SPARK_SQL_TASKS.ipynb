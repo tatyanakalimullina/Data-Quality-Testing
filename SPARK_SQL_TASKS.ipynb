{
 "cells": [
  {
   "cell_type": "code",
   "execution_count": 364,
   "metadata": {},
   "outputs": [],
   "source": [
    "import spark\n",
    "from pyspark.sql.types import StructType, StructField, IntegerType, StringType, DoubleType\n",
    "from pyspark.sql import SparkSession\n",
    "from pyspark.sql.functions import desc,asc, sum\n",
    "from pyspark.sql.functions import when, to_timestamp, isnull, col, split, concat_ws, lpad, row_number, count, lag, minute, explode\n",
    "from pyspark.sql.window import Window"
   ]
  },
  {
   "cell_type": "code",
   "execution_count": 366,
   "metadata": {},
   "outputs": [],
   "source": [
    "spark = SparkSession.builder.appName('Basics').getOrCreate()\n",
    "sc = spark.sparkContext\n",
    "spark.conf.set('spark.sql.csv.parser.columnPruning.enabled', False)"
   ]
  },
  {
   "cell_type": "code",
   "execution_count": 11,
   "metadata": {},
   "outputs": [
    {
     "data": {
      "text/plain": [
       "'/home/jovyan'"
      ]
     },
     "execution_count": 11,
     "metadata": {},
     "output_type": "execute_result"
    }
   ],
   "source": [
    "pwd"
   ]
  },
  {
   "cell_type": "code",
   "execution_count": 388,
   "metadata": {},
   "outputs": [],
   "source": [
    "df = spark.read.option(\"header\",True).csv(\"/home/jovyan/work/datasets/flights.csv\")"
   ]
  },
  {
   "cell_type": "code",
   "execution_count": 389,
   "metadata": {},
   "outputs": [],
   "source": [
    "df.createOrReplaceTempView(\"table\")"
   ]
  },
  {
   "cell_type": "markdown",
   "metadata": {},
   "source": [
    "#### TASK 1"
   ]
  },
  {
   "cell_type": "code",
   "execution_count": 370,
   "metadata": {},
   "outputs": [],
   "source": [
    "import pyspark.sql.functions as sf"
   ]
  },
  {
   "cell_type": "code",
   "execution_count": 371,
   "metadata": {},
   "outputs": [
    {
     "name": "stdout",
     "output_type": "stream",
     "text": [
      "+--------------+-----------+\n",
      "|ORIGIN_AIRPORT|TOTAL_DELAY|\n",
      "+--------------+-----------+\n",
      "|           ORD|  3930516.0|\n",
      "|           ATL|  3216786.0|\n",
      "|           DFW|  2693801.0|\n",
      "|           DEN|  2297099.0|\n",
      "|           LAX|  2054876.0|\n",
      "|           IAH|  1675156.0|\n",
      "|           SFO|  1633300.0|\n",
      "|           LAS|  1449151.0|\n",
      "|           EWR|  1346776.0|\n",
      "|           MCO|  1324481.0|\n",
      "+--------------+-----------+\n",
      "\n"
     ]
    }
   ],
   "source": [
    "res_sql=spark.sql('SELECT ORIGIN_AIRPORT, SUM(DEPARTURE_DELAY)  as TOTAL_DELAY FROM table GROUP BY ORIGIN_AIRPORT ORDER BY TOTAL_DELAY DESC LIMIT 10').show()"
   ]
  },
  {
   "cell_type": "code",
   "execution_count": 372,
   "metadata": {},
   "outputs": [
    {
     "name": "stdout",
     "output_type": "stream",
     "text": [
      "+--------------+-----------+\n",
      "|ORIGIN_AIRPORT|TOTAL_DELAY|\n",
      "+--------------+-----------+\n",
      "|           ORD|    3930516|\n",
      "|           ATL|    3216786|\n",
      "|           DFW|    2693801|\n",
      "|           DEN|    2297099|\n",
      "|           LAX|    2054876|\n",
      "|           IAH|    1675156|\n",
      "|           SFO|    1633300|\n",
      "|           LAS|    1449151|\n",
      "|           EWR|    1346776|\n",
      "|           MCO|    1324481|\n",
      "+--------------+-----------+\n",
      "\n"
     ]
    }
   ],
   "source": [
    "a= spark.read.option('header', True).csv(\"/home/jovyan/work/datasets/flights.csv\")\n",
    "b = a.selectExpr(\"ORIGIN_AIRPORT\", \"CAST(DEPARTURE_DELAY AS INT)\").groupBy(\"ORIGIN_AIRPORT\").agg(sum(\"DEPARTURE_DELAY\").alias(\"TOTAL_DELAY\")).orderBy(desc(\"TOTAL_DELAY\")).limit(10).show()\n"
   ]
  },
  {
   "cell_type": "markdown",
   "metadata": {},
   "source": [
    "#### TASK 2\n",
    "##### QUERY 1"
   ]
  },
  {
   "cell_type": "markdown",
   "metadata": {},
   "source": [
    "##### SQL"
   ]
  },
  {
   "cell_type": "code",
   "execution_count": 407,
   "metadata": {},
   "outputs": [],
   "source": [
    "res_1=spark.sql(\"\"\"SELECT  departure_date, departure_time, airline, flight_number, ROW_NUMBER() OVER (PARTITION BY departure_date, airline ORDER BY departure_time ASC) as daily_flight_serial_number,\n",
    "COUNT(airline)  OVER (PARTITION BY departure_date, airline) airline_daily_flights_count,\n",
    "lag(minute(departure_time))  OVER (PARTITION BY departure_date, airline ORDER BY departure_time ASC) as time_since_previous_departure\n",
    "FROM \n",
    "(SELECT (CASE WHEN (to_date(CONCAT(CAST(YEAR AS STRING),'-',CAST(MONTH as varchar(2)),'-',CAST(DAY as varchar(2))))) is NULL THEN to_date('2015-01-01') ELSE to_date(CONCAT(CAST(YEAR AS STRING),'-',CAST(MONTH as varchar(2)),'-',CAST(DAY as varchar(2)))) END)as departure_date,\n",
    "(CASE WHEN  DEPARTURE_TIME is NULL THEN split(to_timestamp('00:00:00'), ' ')[1] ELSE split(to_timestamp(DEPARTURE_TIME), ' ')[1] END) as departure_time, airline, flight_number FROM table) ORDER BY departure_time \"\"\")"
   ]
  },
  {
   "cell_type": "markdown",
   "metadata": {},
   "source": [
    "##### DSL"
   ]
  },
  {
   "cell_type": "code",
   "execution_count": 404,
   "metadata": {},
   "outputs": [],
   "source": [
    "res_2 = df.withColumn('departure_time', when(isnull('DEPARTURE_TIME'), '00:00:00').otherwise(split(to_timestamp('DEPARTURE_TIME'), ' ')[1])).fillna(\n",
    "        {'YEAR':2015, 'DAY': 1, 'MONTH':1}).withColumn(\n",
    "            'departure_date', concat_ws('-', lpad('YEAR', 4,'0'), lpad('MONTH', 2, '0'), lpad('DAY', 2, '0')) ).select('departure_time', 'departure_date', 'airline', 'flight_number').withColumn(\n",
    "'daily_flight_serial_number', row_number().over(Window.partitionBy('departure_date', 'airline').orderBy(\n",
    "col('departure_time',).asc()))).withColumn('airline_daily_flights_count', count('AIRLINE').over(Window.partitionBy('departure_date', 'airline'))).withColumn('time_since_previous_departure', lag(minute(to_timestamp('departure_time'))).over(Window.partitionBy('departure_date', 'airline').orderBy(\n",
    "    col('departure_time').asc())))"
   ]
  },
  {
   "cell_type": "markdown",
   "metadata": {},
   "source": [
    "##### Сравнение с golden dataset"
   ]
  },
  {
   "cell_type": "code",
   "execution_count": null,
   "metadata": {},
   "outputs": [],
   "source": [
    "import pandas \n",
    "\n",
    "gd = spark.read.option(\"header\",True).parquet(\"/home/jovyan/work/datasets/query1/*.parquet\")\n",
    "\n",
    "dif_1_1 = res_1.subtract(gd)\n",
    "dif_1_2 = gd.subtract(res_1)\n",
    "dif1 = dif_1_1.unionAll(dif_1_2)\n",
    "\n",
    "\n",
    "dif_2_1 = res_2.subtract(gd)\n",
    "dif_2_2 = gd.subtract(res_2)\n",
    "dif2 = dif_2_1.unionAll(dif_2_2)\n",
    "\n",
    "\n",
    "dif1.describe().toPandas().to_excel('/home/jovyan/work/datasets/dif_sql_qolden_dataset.xls', sheet_name='Sheet3', index=False)\n",
    "dif1.write.parquet('/home/jovyan/work/datasets/dif_sql_qolden_dataset_parquet')"
   ]
  },
  {
   "cell_type": "code",
   "execution_count": null,
   "metadata": {},
   "outputs": [],
   "source": [
    "dif2.describe().toPandas().to_excel('/home/jovyan/work/datasets/dif_dsl_qolden_dataset.xls', sheet_name='Sheet1', index=False)\n",
    "dif2.write.parquet('/home/jovyan/work/datasets/dif_dsl_qolden_dataset_parquet')"
   ]
  },
  {
   "cell_type": "code",
   "execution_count": 343,
   "metadata": {},
   "outputs": [
    {
     "name": "stdout",
     "output_type": "stream",
     "text": [
      "Collecting xlwt\n",
      "  Downloading xlwt-1.3.0-py2.py3-none-any.whl (99 kB)\n",
      "\u001b[K     |████████████████████████████████| 99 kB 1.3 MB/s eta 0:00:01\n",
      "\u001b[?25hInstalling collected packages: xlwt\n",
      "Successfully installed xlwt-1.3.0\n",
      "Note: you may need to restart the kernel to use updated packages.\n"
     ]
    }
   ],
   "source": [
    "pip install xlwt"
   ]
  },
  {
   "cell_type": "markdown",
   "metadata": {},
   "source": [
    "### TASK_2\n",
    "\n",
    "#### QUERY_2"
   ]
  },
  {
   "cell_type": "code",
   "execution_count": 77,
   "metadata": {},
   "outputs": [],
   "source": [
    "airlines_json=spark.read.json('/home/jovyan/work/datasets/airlines.json', multiLine=True)\n",
    "airlines_csv=spark.read.option('header', True).csv('/home/jovyan/work/datasets/airlines.csv')\n",
    "airlines_csv.createOrReplaceTempView(\"table3\")\n",
    "airlines_json.createOrReplaceTempView(\"table2\")"
   ]
  },
  {
   "cell_type": "code",
   "execution_count": 57,
   "metadata": {},
   "outputs": [
    {
     "name": "stdout",
     "output_type": "stream",
     "text": [
      "root\n",
      " |-- Airport: struct (nullable = true)\n",
      " |    |-- Code: string (nullable = true)\n",
      " |    |-- Name: string (nullable = true)\n",
      " |-- Statistics: struct (nullable = true)\n",
      " |    |-- # of Delays: struct (nullable = true)\n",
      " |    |    |-- Carrier: long (nullable = true)\n",
      " |    |    |-- Late Aircraft: long (nullable = true)\n",
      " |    |    |-- National Aviation System: long (nullable = true)\n",
      " |    |    |-- Security: long (nullable = true)\n",
      " |    |    |-- Weather: long (nullable = true)\n",
      " |    |-- Carriers: struct (nullable = true)\n",
      " |    |    |-- Names: string (nullable = true)\n",
      " |    |    |-- Total: long (nullable = true)\n",
      " |    |-- Flights: struct (nullable = true)\n",
      " |    |    |-- Cancelled: long (nullable = true)\n",
      " |    |    |-- Delayed: long (nullable = true)\n",
      " |    |    |-- Diverted: long (nullable = true)\n",
      " |    |    |-- On Time: long (nullable = true)\n",
      " |    |    |-- Total: long (nullable = true)\n",
      " |    |-- Minutes Delayed: struct (nullable = true)\n",
      " |    |    |-- Carrier: long (nullable = true)\n",
      " |    |    |-- Late Aircraft: long (nullable = true)\n",
      " |    |    |-- National Aviation System: long (nullable = true)\n",
      " |    |    |-- Security: long (nullable = true)\n",
      " |    |    |-- Total: long (nullable = true)\n",
      " |    |    |-- Weather: long (nullable = true)\n",
      " |-- Time: struct (nullable = true)\n",
      " |    |-- Label: string (nullable = true)\n",
      " |    |-- Month: long (nullable = true)\n",
      " |    |-- Month Name: string (nullable = true)\n",
      " |    |-- Year: long (nullable = true)\n",
      "\n"
     ]
    }
   ],
   "source": [
    "airlines_json.printSchema()"
   ]
  },
  {
   "cell_type": "code",
   "execution_count": 47,
   "metadata": {},
   "outputs": [
    {
     "name": "stdout",
     "output_type": "stream",
     "text": [
      "+--------------------+--------------------+--------------------+\n",
      "|             Airport|          Statistics|                Time|\n",
      "+--------------------+--------------------+--------------------+\n",
      "|[ATL, Atlanta, GA...|[[1009, 1275, 321...|[2003/06, 6, June...|\n",
      "|[BOS, Boston, MA:...|[[374, 495, 685, ...|[2003/06, 6, June...|\n",
      "|[BWI, Baltimore, ...|[[296, 477, 389, ...|[2003/06, 6, June...|\n",
      "|[CLT, Charlotte, ...|[[300, 472, 735, ...|[2003/06, 6, June...|\n",
      "|[DCA, Washington,...|[[283, 268, 487, ...|[2003/06, 6, June...|\n",
      "|[DEN, Denver, CO:...|[[516, 323, 664, ...|[2003/06, 6, June...|\n",
      "|[DFW, Dallas/Fort...|[[986, 1390, 2147...|[2003/06, 6, June...|\n",
      "|[DTW, Detroit, MI...|[[376, 371, 570, ...|[2003/06, 6, June...|\n",
      "|[EWR, Newark, NJ:...|[[322, 519, 1948,...|[2003/06, 6, June...|\n",
      "|[FLL, Fort Lauder...|[[247, 256, 427, ...|[2003/06, 6, June...|\n",
      "|[IAD, Washington,...|[[320, 295, 573, ...|[2003/06, 6, June...|\n",
      "|[IAH, Houston, TX...|[[329, 730, 1405,...|[2003/06, 6, June...|\n",
      "|[JFK, New York, N...|[[376, 226, 394, ...|[2003/06, 6, June...|\n",
      "|[LAS, Las Vegas, ...|[[511, 678, 624, ...|[2003/06, 6, June...|\n",
      "|[LAX, Los Angeles...|[[830, 765, 842, ...|[2003/06, 6, June...|\n",
      "|[LGA, New York, N...|[[302, 338, 867, ...|[2003/06, 6, June...|\n",
      "|[MCO, Orlando, FL...|[[368, 434, 535, ...|[2003/06, 6, June...|\n",
      "|[MDW, Chicago, IL...|[[180, 411, 311, ...|[2003/06, 6, June...|\n",
      "|[MIA, Miami, FL: ...|[[247, 210, 585, ...|[2003/06, 6, June...|\n",
      "|[MSP, Minneapolis...|[[428, 376, 759, ...|[2003/06, 6, June...|\n",
      "+--------------------+--------------------+--------------------+\n",
      "only showing top 20 rows\n",
      "\n"
     ]
    }
   ],
   "source": [
    "airlines_json.show()"
   ]
  },
  {
   "cell_type": "markdown",
   "metadata": {},
   "source": [
    "*промежуточные вычисления*"
   ]
  },
  {
   "cell_type": "code",
   "execution_count": 128,
   "metadata": {},
   "outputs": [
    {
     "name": "stdout",
     "output_type": "stream",
     "text": [
      "+----+-----+------------+--------------------+----------------------------+---------+--------------------+\n",
      "|year|month|airport_code|        airline_name|number_of_delays_for_airport|IATA_CODE|             AIRLINE|\n",
      "+----+-----+------------+--------------------+----------------------------+---------+--------------------+\n",
      "|2015|    1|         ATL|American Airlines...|                        4651|       AA|American Airlines...|\n",
      "|2015|    1|         ATL|Alaska Airlines Inc.|                        4651|       AS|Alaska Airlines Inc.|\n",
      "|2015|    1|         ATL|Delta Air Lines Inc.|                        4651|       DL|Delta Air Lines Inc.|\n",
      "|2015|    1|         ATL|ExpressJet Airlin...|                        4651|     null|                null|\n",
      "|2015|    1|         ATL|Frontier Airlines...|                        4651|       F9|Frontier Airlines...|\n",
      "|2015|    1|         ATL|           Envoy Air|                        4651|     null|                null|\n",
      "|2015|    1|         ATL|    Spirit Air Lines|                        4651|       NK|    Spirit Air Lines|\n",
      "|2015|    1|         ATL|SkyWest Airlines ...|                        4651|     null|                null|\n",
      "|2015|    1|         ATL|United Air Lines ...|                        4651|       UA|United Air Lines ...|\n",
      "|2015|    1|         ATL|     US Airways Inc.|                        4651|       US|     US Airways Inc.|\n",
      "|2015|    1|         ATL|Southwest Airline...|                        4651|       WN|Southwest Airline...|\n",
      "|2015|    1|         BOS|American Airlines...|                        2638|       AA|American Airlines...|\n",
      "|2015|    1|         BOS|Alaska Airlines Inc.|                        2638|       AS|Alaska Airlines Inc.|\n",
      "|2015|    1|         BOS|     JetBlue Airways|                        2638|       B6|     JetBlue Airways|\n",
      "|2015|    1|         BOS|Delta Air Lines Inc.|                        2638|       DL|Delta Air Lines Inc.|\n",
      "|2015|    1|         BOS|ExpressJet Airlin...|                        2638|     null|                null|\n",
      "|2015|    1|         BOS|    Spirit Air Lines|                        2638|       NK|    Spirit Air Lines|\n",
      "|2015|    1|         BOS|SkyWest Airlines ...|                        2638|     null|                null|\n",
      "|2015|    1|         BOS|United Air Lines ...|                        2638|       UA|United Air Lines ...|\n",
      "|2015|    1|         BOS|     US Airways Inc.|                        2638|       US|     US Airways Inc.|\n",
      "+----+-----+------------+--------------------+----------------------------+---------+--------------------+\n",
      "only showing top 20 rows\n",
      "\n"
     ]
    }
   ],
   "source": [
    "a=spark.sql(\"\"\"SELECT * from \n",
    "               (SELECT Time['Year'] as year,\n",
    "               Time['Month'] as month,\n",
    "               Airport['Code'] as airport_code,\n",
    "               airline_name,\n",
    "               Statistics['Flights']['Delayed'] + Statistics['Flights']['Cancelled'] + Statistics['Flights']['Diverted'] as number_of_delays_for_airport\n",
    "               from table2\n",
    "               LATERAL VIEW EXPLODE(split(Statistics['Carriers']['Names'], ',')) as airline_name\n",
    "               where TIME['YEAR']=2015) json\n",
    "               LEFT JOIN table3 on json.airline_name=table3.AIRLINE \n",
    "               \"\"\").show()"
   ]
  },
  {
   "cell_type": "markdown",
   "metadata": {},
   "source": [
    "*промежуточные вычисления*"
   ]
  },
  {
   "cell_type": "code",
   "execution_count": 119,
   "metadata": {},
   "outputs": [
    {
     "name": "stdout",
     "output_type": "stream",
     "text": [
      "+----+-----+---------------+-------+---------------------------------------+\n",
      "|YEAR|MONTH|DELAYED_AIRPORT|AIRLINE|number_of_delays_for_airline_in_airport|\n",
      "+----+-----+---------------+-------+---------------------------------------+\n",
      "|2015|    1|            JLN|     MQ|                                     10|\n",
      "|2015|    1|            CHS|     EV|                                     34|\n",
      "|2015|    1|            JFK|     US|                                     35|\n",
      "|2015|    1|            ABQ|     B6|                                      5|\n",
      "|2015|    1|            JAC|     AA|                                      1|\n",
      "|2015|    1|           null|     US|                                      0|\n",
      "|2015|    1|            CLT|     US|                                    713|\n",
      "|2015|    1|            SEA|     DL|                                     74|\n",
      "|2015|    1|            RSW|     DL|                                     46|\n",
      "|2015|    1|            MSP|     MQ|                                      8|\n",
      "|2015|    1|            CHO|     MQ|                                      3|\n",
      "|2015|    1|            FWA|     OO|                                     10|\n",
      "|2015|    1|            ATL|     OO|                                     36|\n",
      "|2015|    1|            HYS|     OO|                                      4|\n",
      "|2015|    1|            PWM|     US|                                      3|\n",
      "|2015|    1|            MKE|     EV|                                     24|\n",
      "|2015|    1|            DTW|     DL|                                    274|\n",
      "|2015|    1|            OKC|     MQ|                                     22|\n",
      "|2015|    1|            MEM|     AA|                                     14|\n",
      "|2015|    1|            LIH|     UA|                                      7|\n",
      "+----+-----+---------------+-------+---------------------------------------+\n",
      "only showing top 20 rows\n",
      "\n"
     ]
    }
   ],
   "source": [
    "b=spark.sql(\"\"\"SELECT YEAR, MONTH, DELAYED_AIRPORT, AIRLINE,\n",
    "COUNT(DELAYED_AIRPORT) as number_of_delays_for_airline_in_airport\n",
    "FROM(SELECT YEAR, MONTH, AIRLINE, CASE WHEN ((DEPARTURE_DELAY > 0 AND ARRIVAL_DELAY > 0) OR (CANCELLED='1')) THEN ORIGIN_AIRPORT\n",
    "                           WHEN (DEPARTURE_DELAY <= 0 AND ARRIVAL_DELAY > 0) OR (DIVERTED='1') THEN DESTINATION_AIRPORT\n",
    "                    ELSE NULL END as DELAYED_AIRPORT FROM table) GROUP BY YEAR, MONTH, AIRLINE, DELAYED_AIRPORT\"\"\").show()"
   ]
  },
  {
   "cell_type": "markdown",
   "metadata": {},
   "source": [
    "##### Итоговый SQL запрос"
   ]
  },
  {
   "cell_type": "code",
   "execution_count": 305,
   "metadata": {},
   "outputs": [],
   "source": [
    "sql_query=spark.sql(\"\"\"SELECT \n",
    "               lpad(a.year, 4,'0')||'-'||lpad(a.month, 2, '0') as year_month,\n",
    "               a.airport_code,\n",
    "               a.number_of_delays_for_airport,\n",
    "               a.airline_name,\n",
    "               IFNULL(a.IATA_CODE, 'N/A') as airline_iata_code,\n",
    "               CASE WHEN b.number_of_delays_for_airline_in_airport is NULL AND a.IATA_CODE='N/A' THEN null\n",
    "               WHEN b.number_of_delays_for_airline_in_airport is NULL AND a.IATA_CODE<>'N/A' THEN 0\n",
    "               ELSE b.number_of_delays_for_airline_in_airport END as number_of_delays_for_airline_in_airport\n",
    "               from                     \n",
    "               (\n",
    "               (SELECT Time['Year'] as year,\n",
    "               Time['Month'] as month,\n",
    "               Airport['Code'] as airport_code,\n",
    "               airline_name,\n",
    "               Statistics['Flights']['Delayed'] + Statistics['Flights']['Cancelled'] + Statistics['Flights']['Diverted'] as number_of_delays_for_airport\n",
    "               from table2\n",
    "               LATERAL VIEW EXPLODE(split(Statistics['Carriers']['Names'], ',')) as airline_name\n",
    "               where TIME['YEAR']=2015) json\n",
    "               LEFT JOIN table3 on json.airline_name=table3.AIRLINE) a\n",
    "               LEFT JOIN \n",
    "               (SELECT YEAR as year, MONTH as month, DELAYED_AIRPORT as airport_code, \n",
    "               AIRLINE as airline_code,\n",
    "               COUNT(DELAYED_AIRPORT) as number_of_delays_for_airline_in_airport\n",
    "               FROM(SELECT YEAR, MONTH, AIRLINE, CASE WHEN ((DEPARTURE_DELAY > 0 AND ARRIVAL_DELAY > 0) OR (CANCELLED='1')) THEN ORIGIN_AIRPORT\n",
    "               WHEN (DEPARTURE_DELAY <= 0 AND ARRIVAL_DELAY > 0) OR (DIVERTED='1') THEN DESTINATION_AIRPORT\n",
    "               ELSE NULL END as DELAYED_AIRPORT FROM table) GROUP BY YEAR, MONTH, AIRLINE, DELAYED_AIRPORT) b\n",
    "               ON a.year=b.year AND a.month=b.month AND a.airport_code=b.airport_code AND a.IATA_CODE=b.airline_code\"\"\")"
   ]
  },
  {
   "cell_type": "markdown",
   "metadata": {},
   "source": [
    "##### DSL query"
   ]
  },
  {
   "cell_type": "markdown",
   "metadata": {},
   "source": [
    "###### select из flights.csv "
   ]
  },
  {
   "cell_type": "code",
   "execution_count": 256,
   "metadata": {},
   "outputs": [],
   "source": [
    "d=df.withColumn('DELAYED_AIRPORT', when(((col('DEPARTURE_DELAY').cast(IntegerType()) > 0) &\n",
    "                                                 (col('ARRIVAL_DELAY') > 0)) |\n",
    "                                                (col('CANCELLED')=='1'), col('ORIGIN_AIRPORT')).when(((col('DEPARTURE_DELAY').cast(IntegerType()) <= 0) &\n",
    "                                                 (col('ARRIVAL_DELAY') > 0)) |\n",
    "                                                (col('DIVERTED')=='1'), col('DESTINATION_AIRPORT')\n",
    ")).groupBy('YEAR', 'MONTH', 'AIRLINE', 'DELAYED_AIRPORT').count().select(col('YEAR').alias('year'), col('MONTH').alias('month'),col('AIRLINE').alias('airline_code'), col('DELAYED_AIRPORT').alias('airport_code'),col('count').alias('number_of_delays_for_airline_in_airport')).where(~ isnull('airport_code'))"
   ]
  },
  {
   "cell_type": "markdown",
   "metadata": {},
   "source": [
    "###### select из json-файла и airlines.csv"
   ]
  },
  {
   "cell_type": "code",
   "execution_count": 254,
   "metadata": {},
   "outputs": [],
   "source": [
    "tmp = airlines_json.withColumn('airline_name', explode(split(col('Statistics')['Carriers']['Names'],','))).select(\n",
    "    (col('Time')['Year']).alias('year'), (col('Time')['Month']).alias('month'), (col('Airport')['Code']).alias('airport_code'), 'airline_name', (col('Statistics')['Flights']['Delayed'] + col('Statistics')['Flights']['Cancelled'] + col('Statistics')['Flights']['Diverted']).alias('number_of_delays_for_airport')).where('year=2015').join(airlines_csv, col('airline_name')==airlines_csv.AIRLINE, 'left')"
   ]
  },
  {
   "cell_type": "markdown",
   "metadata": {},
   "source": [
    "###### объединение двух селектов выше и select из него"
   ]
  },
  {
   "cell_type": "code",
   "execution_count": 307,
   "metadata": {},
   "outputs": [],
   "source": [
    "dsl_query=tmp.join(d,(d.year==tmp.year)&(d.month==tmp.month)&(d.airport_code==tmp.airport_code)&(d.airline_code==tmp.IATA_CODE) ,'left').withColumn('year_month',\n",
    "concat_ws('-', lpad(tmp.year, 4,'0'), lpad(tmp.month, 2, '0'))).withColumn('airline_iata_code',tmp.IATA_CODE ).fillna(value='N/A', subset=['airline_iata_code']).withColumn('number_of_delays_for_airline_in_airport',\n",
    "when((col('airline_iata_code')=='N/A')&(d.number_of_delays_for_airline_in_airport.isNull()), None).when((col('airline_iata_code')!='N/A')&(d.number_of_delays_for_airline_in_airport.isNull()),0).otherwise(d.number_of_delays_for_airline_in_airport)).select('year_month', tmp.airport_code, tmp.number_of_delays_for_airport, tmp.airline_name, 'airline_iata_code', 'number_of_delays_for_airline_in_airport')"
   ]
  },
  {
   "cell_type": "markdown",
   "metadata": {},
   "source": [
    "##### Сравнение с golden dataset"
   ]
  },
  {
   "cell_type": "code",
   "execution_count": 309,
   "metadata": {},
   "outputs": [],
   "source": [
    "gd2 = spark.read.option(\"header\",True).parquet(\"/home/jovyan/work/datasets/query2/*.parquet\")\n",
    "\n",
    "dif_1_1 = sql_query.subtract(gd2)\n",
    "dif_1_2 = gd2.subtract(sql_query)\n",
    "dif1 = dif_1_1.unionAll(dif_1_2)\n",
    "\n",
    "\n",
    "dif_2_1 = dsl_query.subtract(gd2)\n",
    "dif_2_2 = gd2.subtract(dsl_query)\n",
    "dif2 = dif_2_1.unionAll(dif_2_2)\n",
    "\n",
    "dif1.describe().toPandas().to_excel('/home/jovyan/work/datasets/dif_sql_qolden_dataset_query2.xls', sheet_name='Sheet1', index=False)\n",
    "dif1.write.parquet('/home/jovyan/work/datasets/dif_sql_qolden_dataset_parquet_query2')\n",
    "\n",
    "dif2.describe().toPandas().to_excel('/home/jovyan/work/datasets/dif_dsl_qolden_dataset_query.xls', sheet_name='Sheet1', index=False)\n",
    "dif2.write.parquet('/home/jovyan/work/datasets/dif_dsl_qolden_dataset_parquet_query2')"
   ]
  },
  {
   "cell_type": "markdown",
   "metadata": {},
   "source": [
    "### Task_3"
   ]
  },
  {
   "cell_type": "code",
   "execution_count": 337,
   "metadata": {},
   "outputs": [
    {
     "name": "stdout",
     "output_type": "stream",
     "text": [
      "root\n",
      " |-- YEAR: string (nullable = true)\n",
      " |-- MONTH: string (nullable = true)\n",
      " |-- DAY: string (nullable = true)\n",
      " |-- DAY_OF_WEEK: string (nullable = true)\n",
      " |-- AIRLINE: string (nullable = true)\n",
      " |-- FLIGHT_NUMBER: string (nullable = true)\n",
      " |-- TAIL_NUMBER: string (nullable = true)\n",
      " |-- ORIGIN_AIRPORT: string (nullable = true)\n",
      " |-- DESTINATION_AIRPORT: string (nullable = true)\n",
      " |-- SCHEDULED_DEPARTURE: string (nullable = true)\n",
      " |-- DEPARTURE_TIME: string (nullable = true)\n",
      " |-- DEPARTURE_DELAY: string (nullable = true)\n",
      " |-- TAXI_OUT: string (nullable = true)\n",
      " |-- WHEELS_OFF: string (nullable = true)\n",
      " |-- SCHEDULED_TIME: string (nullable = true)\n",
      " |-- ELAPSED_TIME: string (nullable = true)\n",
      " |-- AIR_TIME: string (nullable = true)\n",
      " |-- DISTANCE: string (nullable = true)\n",
      " |-- WHEELS_ON: string (nullable = true)\n",
      " |-- TAXI_IN: string (nullable = true)\n",
      " |-- SCHEDULED_ARRIVAL: string (nullable = true)\n",
      " |-- ARRIVAL_TIME: string (nullable = true)\n",
      " |-- ARRIVAL_DELAY: string (nullable = true)\n",
      " |-- DIVERTED: string (nullable = true)\n",
      " |-- CANCELLED: string (nullable = true)\n",
      " |-- CANCELLATION_REASON: string (nullable = true)\n",
      " |-- AIR_SYSTEM_DELAY: string (nullable = true)\n",
      " |-- SECURITY_DELAY: string (nullable = true)\n",
      " |-- AIRLINE_DELAY: string (nullable = true)\n",
      " |-- LATE_AIRCRAFT_DELAY: string (nullable = true)\n",
      " |-- WEATHER_DELAY: string (nullable = true)\n",
      "\n"
     ]
    }
   ],
   "source": [
    "df = spark.read.option(\"header\",True).csv(\"/home/jovyan/work/datasets/flights.csv\")\n",
    "df.printSchema()"
   ]
  },
  {
   "cell_type": "code",
   "execution_count": 339,
   "metadata": {},
   "outputs": [
    {
     "name": "stdout",
     "output_type": "stream",
     "text": [
      "YEAR:\t0\n",
      "MONTH:\t0\n",
      "DAY:\t0\n",
      "DAY_OF_WEEK:\t0\n",
      "AIRLINE:\t0\n",
      "FLIGHT_NUMBER:\t0\n",
      "TAIL_NUMBER:\t14721\n",
      "ORIGIN_AIRPORT:\t0\n",
      "DESTINATION_AIRPORT:\t0\n",
      "SCHEDULED_DEPARTURE:\t0\n",
      "DEPARTURE_TIME:\t86153\n",
      "DEPARTURE_DELAY:\t86153\n",
      "TAXI_OUT:\t89047\n",
      "WHEELS_OFF:\t89047\n",
      "SCHEDULED_TIME:\t6\n",
      "ELAPSED_TIME:\t105071\n",
      "AIR_TIME:\t105071\n",
      "DISTANCE:\t0\n",
      "WHEELS_ON:\t92513\n",
      "TAXI_IN:\t92513\n",
      "SCHEDULED_ARRIVAL:\t0\n",
      "ARRIVAL_TIME:\t92513\n",
      "ARRIVAL_DELAY:\t105071\n",
      "DIVERTED:\t0\n",
      "CANCELLED:\t0\n",
      "CANCELLATION_REASON:\t5729195\n",
      "AIR_SYSTEM_DELAY:\t4755640\n",
      "SECURITY_DELAY:\t4755640\n",
      "AIRLINE_DELAY:\t4755640\n",
      "LATE_AIRCRAFT_DELAY:\t4755640\n",
      "WEATHER_DELAY:\t4755640\n"
     ]
    }
   ],
   "source": [
    "columns = df.schema.names\n",
    "for column, dtype in df.dtypes:\n",
    "    if dtype=='string':\n",
    "        print('{}:\\t{}'.format(column, df.where(df[column].isNull()).count()))\n",
    "    "
   ]
  }
 ],
 "metadata": {
  "kernelspec": {
   "display_name": "Python 3",
   "language": "python",
   "name": "python3"
  },
  "language_info": {
   "codemirror_mode": {
    "name": "ipython",
    "version": 3
   },
   "file_extension": ".py",
   "mimetype": "text/x-python",
   "name": "python",
   "nbconvert_exporter": "python",
   "pygments_lexer": "ipython3",
   "version": "3.7.6"
  }
 },
 "nbformat": 4,
 "nbformat_minor": 4
}
